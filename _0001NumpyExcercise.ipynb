{
 "cells": [
  {
   "cell_type": "markdown",
   "id": "f0fa48f7",
   "metadata": {},
   "source": [
    "# NumPy Assignment"
   ]
  },
  {
   "cell_type": "markdown",
   "id": "c6aa2823",
   "metadata": {},
   "source": [
    "## Title: NumPy Assignment"
   ]
  },
  {
   "cell_type": "markdown",
   "id": "d19c2c06",
   "metadata": {},
   "source": [
    "In this assignment, you'll practice using NumPy to solve a problem. You have been given a dataset that represents the height (in centimeters) of 10 students in a class.\n",
    "\n",
    "Dataset:"
   ]
  },
  {
   "cell_type": "code",
   "execution_count": 4,
   "id": "354b8b74",
   "metadata": {},
   "outputs": [],
   "source": [
    "heights = np.array([160, 155, 172, 165, 180, 158, 175, 163, 171, 168])\n"
   ]
  },
  {
   "cell_type": "markdown",
   "id": "1d6be04b",
   "metadata": {},
   "source": [
    "Your task is to:\n",
    "\n",
    " * Calculate the mean, median, and standard deviation of the students' heights.\n",
    "\n",
    "* Create a new array with the heights normalized, i.e., each height value should be transformed to have a mean of 0 and a standard deviation of 1.\n",
    "\n",
    "* Determine the tallest and shortest students in the class using NumPy's argmax and argmin functions.\n",
    "\n",
    "* Calculate the difference between the tallest and shortest students' heights.\n",
    "\n",
    "* Randomly select 5 heights from the dataset without replacement."
   ]
  },
  {
   "cell_type": "markdown",
   "id": "c2aff6de",
   "metadata": {},
   "source": [
    "Complete the assignment by writing Python code using NumPy. Remember to first import NumPy and use its functions to perform the required calculations. Good luck!\n",
    "\n",
    "Note: The purpose of this assignment is to test your understanding of NumPy concepts covered in this curriculum. Try to complete the assignment without referring back to the curriculum, but if you get stuck, feel free to review the topics and examples provided."
   ]
  },
  {
   "cell_type": "markdown",
   "id": "25b73dea",
   "metadata": {},
   "source": [
    "## Solution"
   ]
  },
  {
   "cell_type": "markdown",
   "id": "eb15e87f",
   "metadata": {},
   "source": [
    "#### Answer 1: Mean,median,Standard Deviation"
   ]
  },
  {
   "cell_type": "code",
   "execution_count": 5,
   "id": "5a396b7b",
   "metadata": {
    "scrolled": false
   },
   "outputs": [
    {
     "name": "stdout",
     "output_type": "stream",
     "text": [
      "Mean : 166.7\n",
      "Median : 166.5\n",
      "Standard Deviaton : 7.5372408744845085\n"
     ]
    }
   ],
   "source": [
    "import numpy as np\n",
    "\n",
    "mean = np.mean(heights); print(\"Mean :\",mean)\n",
    "median = np.median(heights); print(\"Median :\",median)\n",
    "Std_Dev = np.std(heights);print(\"Standard Deviaton :\",Std_Dev)"
   ]
  },
  {
   "cell_type": "markdown",
   "id": "5d687674",
   "metadata": {},
   "source": [
    "#### Answer 2: Normalized heights"
   ]
  },
  {
   "cell_type": "code",
   "execution_count": 7,
   "id": "90569b1e",
   "metadata": {},
   "outputs": [],
   "source": [
    "\n",
    "normalized_heights = np.random.randn()\n",
    "\n"
   ]
  },
  {
   "cell_type": "markdown",
   "id": "448dc89a",
   "metadata": {},
   "source": [
    "#### Answer 3:Tallest and shortest student"
   ]
  },
  {
   "cell_type": "code",
   "execution_count": 8,
   "id": "03447880",
   "metadata": {},
   "outputs": [
    {
     "name": "stdout",
     "output_type": "stream",
     "text": [
      "Tallest Student Nos : 4\n",
      "Shortest Student Nos : 1\n"
     ]
    }
   ],
   "source": [
    "tallest_student = np.argmax(heights); print(\"Tallest Student Nos :\",tallest_student)\n",
    "shortest_student = np.argmin(heights); print(\"Shortest Student Nos :\",shortest_student)"
   ]
  },
  {
   "cell_type": "markdown",
   "id": "bf59cf7b",
   "metadata": {},
   "source": [
    "#### Answer 4: Difference between Tallest and Shortest"
   ]
  },
  {
   "cell_type": "code",
   "execution_count": 9,
   "id": "5bf013a5",
   "metadata": {},
   "outputs": [
    {
     "name": "stdout",
     "output_type": "stream",
     "text": [
      "Student Difference : 25 Inches\n"
     ]
    }
   ],
   "source": [
    "Student_Diff = np.max(heights) - np.min(heights); print('Student Difference :',Student_Diff, 'Inches')"
   ]
  },
  {
   "cell_type": "markdown",
   "id": "94db5e4c",
   "metadata": {},
   "source": [
    "#### Answer 5: Selecting abitrarly 5 choice of student heights"
   ]
  },
  {
   "cell_type": "code",
   "execution_count": 10,
   "id": "cc9d5b92",
   "metadata": {},
   "outputs": [
    {
     "name": "stdout",
     "output_type": "stream",
     "text": [
      "Five student heights : [172 165 175 155 163]\n"
     ]
    }
   ],
   "source": [
    "Five_heights = np.random.choice(heights, 5,replace = False)\n",
    "print('Five student heights :',Five_heights)"
   ]
  }
 ],
 "metadata": {
  "kernelspec": {
   "display_name": "Python 3 (ipykernel)",
   "language": "python",
   "name": "python3"
  },
  "language_info": {
   "codemirror_mode": {
    "name": "ipython",
    "version": 3
   },
   "file_extension": ".py",
   "mimetype": "text/x-python",
   "name": "python",
   "nbconvert_exporter": "python",
   "pygments_lexer": "ipython3",
   "version": "3.10.9"
  }
 },
 "nbformat": 4,
 "nbformat_minor": 5
}
